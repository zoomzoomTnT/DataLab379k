{
 "cells": [
  {
   "cell_type": "markdown",
   "metadata": {},
   "source": [
    "# problem1"
   ]
  },
  {
   "cell_type": "code",
   "execution_count": 39,
   "metadata": {
    "collapsed": false
   },
   "outputs": [
    {
     "name": "stdout",
     "output_type": "stream",
     "text": [
      "Original pivot rows:  2\n",
      "Matrix 1 pivot rows:  2\n",
      "Matrix 2 pivot rows:  3\n"
     ]
    }
   ],
   "source": [
    "import numpy as np\n",
    "import sympy\n",
    "import matplotlib.pyplot as plt\n",
    "%matplotlib inline\n",
    "\n",
    "v1 = np.array([1, 0, 1, 2])\n",
    "v2 = np.array([2, 1, 4, 11])\n",
    "v3 = np.array([3, 0, 3, 6])\n",
    "v4 = np.array([4, 1, 6, 15])\n",
    "orig_mat = np.matrix([v1, v2, v3, v4])\n",
    "\n",
    "v1 = np.array([1, 0, 1, 2, 4])\n",
    "v2 = np.array([2, 1, 4, 11, 18])\n",
    "v3 = np.array([3, 0, 3, 6, 12])\n",
    "v4 = np.array([4, 1, 6, 15, 26])\n",
    "inspan_mat = np.matrix([v1, v2, v3, v4])\n",
    "\n",
    "v1 = np.array([1, 0, 1, 2, 1])\n",
    "v2 = np.array([2, 1, 4, 11, 3])\n",
    "v3 = np.array([3, 0, 3, 6, 1])\n",
    "v4 = np.array([4, 1, 6, 15, 4])\n",
    "nonspan_mat = np.matrix([v1, v2, v3, v4])\n",
    "\n",
    "orig_reduced = sympy.Matrix(orig_mat).rref()\n",
    "inspan_reduced = sympy.Matrix(inspan_mat).rref()\n",
    "nonspan_reduced = sympy.Matrix(nonspan_mat).rref()\n",
    "print (\"Original pivot rows: \",len(orig_reduced[1]))\n",
    "print (\"Matrix 1 pivot rows: \",len(inspan_reduced[1]))\n",
    "print (\"Matrix 2 pivot rows: \",len(nonspan_reduced[1]))\n"
   ]
  },
  {
   "cell_type": "markdown",
   "metadata": {},
   "source": [
    "By making augmented matrixes, from result shown, inspan matrix does not add more pivot rows, however, not inspan matrix add more pivot rows."
   ]
  },
  {
   "cell_type": "markdown",
   "metadata": {},
   "source": [
    "1B"
   ]
  },
  {
   "cell_type": "code",
   "execution_count": 42,
   "metadata": {
    "collapsed": false
   },
   "outputs": [
    {
     "name": "stdout",
     "output_type": "stream",
     "text": [
      "Subspace rank of matrix:  2  for \n",
      "[[ 1  0  1  2]\n",
      " [ 2  1  4 11]\n",
      " [ 3  0  3  6]\n",
      " [ 4  1  6 15]]\n"
     ]
    }
   ],
   "source": [
    "rank = len(orig_reduced[1])\n",
    "print(\"Subspace rank of matrix: \",rank,\" for \\n{}\".format(orig_mat))\n"
   ]
  },
  {
   "cell_type": "markdown",
   "metadata": {},
   "source": [
    "1C"
   ]
  },
  {
   "cell_type": "code",
   "execution_count": 45,
   "metadata": {
    "collapsed": false
   },
   "outputs": [
    {
     "name": "stdout",
     "output_type": "stream",
     "text": [
      "[[-0.40824829  0.79211803  0.45374261  0.        ]\n",
      " [-0.         -0.29704426  0.51856298 -0.80178373]\n",
      " [-0.40824829  0.19802951 -0.7130241  -0.53452248]\n",
      " [-0.81649658 -0.49507377  0.12964074  0.26726124]]\n",
      "[[ -2.44948974e+00  -1.14309521e+01  -7.34846923e+00  -1.63299316e+01]\n",
      " [  0.00000000e+00  -3.36650165e+00   1.72331927e-15  -3.36650165e+00]\n",
      " [  0.00000000e+00   0.00000000e+00   9.87155122e-16   9.42460924e-16]\n",
      " [  0.00000000e+00   0.00000000e+00   0.00000000e+00   4.81395150e-17]]\n",
      "Orthonormal Basis:\n",
      " [[-0.40824829  0.79211803]\n",
      " [-0.         -0.29704426]\n",
      " [-0.40824829  0.19802951]\n",
      " [-0.81649658 -0.49507377]]\n"
     ]
    }
   ],
   "source": [
    "q,r = np.linalg.qr(orig_mat.T)\n",
    "print(q)\n",
    "print(r)\n",
    "orthonormal_basis = q[:, :rank]\n",
    "print('Orthonormal Basis:\\n',orthonormal_basis)"
   ]
  },
  {
   "cell_type": "code",
   "execution_count": null,
   "metadata": {
    "collapsed": true
   },
   "outputs": [],
   "source": []
  }
 ],
 "metadata": {
  "kernelspec": {
   "display_name": "Python 3",
   "language": "python",
   "name": "python3"
  },
  "language_info": {
   "codemirror_mode": {
    "name": "ipython",
    "version": 3
   },
   "file_extension": ".py",
   "mimetype": "text/x-python",
   "name": "python",
   "nbconvert_exporter": "python",
   "pygments_lexer": "ipython3",
   "version": "3.6.0"
  }
 },
 "nbformat": 4,
 "nbformat_minor": 2
}
