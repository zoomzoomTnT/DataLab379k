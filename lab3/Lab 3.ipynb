{
 "cells": [
  {
   "cell_type": "code",
   "execution_count": 10,
   "metadata": {
    "collapsed": false
   },
   "outputs": [
    {
     "name": "stdout",
     "output_type": "stream",
     "text": [
      "(Matrix([\n",
      "[1, 0, 1, 2,  4],\n",
      "[0, 1, 2, 7, 10],\n",
      "[0, 0, 0, 0,  0],\n",
      "[0, 0, 0, 0,  0]]), [0, 1])\n"
     ]
    }
   ],
   "source": [
    "import numpy as np\n",
    "import sympy\n",
    "import matplotlib.pyplot as plt\n",
    "%matplotlib inline\n",
    "\n",
    "v1 = np.array([1, 0, 1, 2, 4])\n",
    "v2 = np.array([2, 1, 4, 11, 18])\n",
    "v3 = np.array([3, 0, 3, 6, 12])\n",
    "v4 = np.array([4, 1, 6, 15, 26])\n",
    "\n",
    "\n",
    "v1 = np.array([1, 0, 1, 2, 4])\n",
    "v2 = np.array([2, 1, 4, 11, 18])\n",
    "v3 = np.array([3, 0, 3, 6, 12])\n",
    "v4 = np.array([4, 1, 6, 15, 26])\n",
    "mat = np.matrix([v1, v2, v3, v4])\n",
    "reduced = sympy.Matrix(mat).rref()\n",
    "print reduced\n"
   ]
  },
  {
   "cell_type": "code",
   "execution_count": null,
   "metadata": {
    "collapsed": true
   },
   "outputs": [],
   "source": []
  }
 ],
 "metadata": {
  "anaconda-cloud": {},
  "kernelspec": {
   "display_name": "Python [Root]",
   "language": "python",
   "name": "Python [Root]"
  },
  "language_info": {
   "codemirror_mode": {
    "name": "ipython",
    "version": 2
   },
   "file_extension": ".py",
   "mimetype": "text/x-python",
   "name": "python",
   "nbconvert_exporter": "python",
   "pygments_lexer": "ipython2",
   "version": "2.7.12"
  }
 },
 "nbformat": 4,
 "nbformat_minor": 0
}
